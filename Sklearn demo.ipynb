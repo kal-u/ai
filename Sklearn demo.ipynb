{
  "nbformat": 4,
  "nbformat_minor": 0,
  "metadata": {
    "colab": {
      "name": "Untitled18.ipynb",
      "provenance": [],
      "include_colab_link": true
    },
    "kernelspec": {
      "name": "python3",
      "display_name": "Python 3"
    }
  },
  "cells": [
    {
      "cell_type": "markdown",
      "metadata": {
        "id": "view-in-github",
        "colab_type": "text"
      },
      "source": [
        "<a href=\"https://colab.research.google.com/github/kal-u/ai/blob/main/Sklearn%20demo.ipynb\" target=\"_parent\"><img src=\"https://colab.research.google.com/assets/colab-badge.svg\" alt=\"Open In Colab\"/></a>"
      ]
    },
    {
      "cell_type": "markdown",
      "metadata": {
        "id": "nyias9X7k_Rj"
      },
      "source": [
        "# Intelligence artificielle\n",
        "\n",
        "Démo avec la librairie SciKit Learn\n",
        "\n",
        "---\n",
        "\n"
      ]
    },
    {
      "cell_type": "markdown",
      "source": [
        "# Importation des librairies"
      ],
      "metadata": {
        "id": "3741Q-5GmLqt"
      }
    },
    {
      "cell_type": "code",
      "metadata": {
        "id": "eFsM1ZAWkdIu"
      },
      "source": [
        "import numpy as np\n",
        "import matplotlib.pyplot as plt\n"
      ],
      "execution_count": null,
      "outputs": []
    },
    {
      "cell_type": "markdown",
      "metadata": {
        "id": "QytmUazKpIw7"
      },
      "source": [
        "# 3. Polynomial Features"
      ]
    },
    {
      "cell_type": "code",
      "metadata": {
        "id": "wP6CXqe7pDNo"
      },
      "source": [
        "from sklearn.preprocessing import PolynomialFeatures\n",
        "from sklearn.linear_model import LinearRegression"
      ],
      "execution_count": null,
      "outputs": []
    },
    {
      "cell_type": "markdown",
      "source": [
        "# Définition d'un jeu de données (dataset)"
      ],
      "metadata": {
        "id": "e3E9g2SMmUhU"
      }
    },
    {
      "cell_type": "code",
      "metadata": {
        "id": "NkpGALhhpPAl",
        "colab": {
          "base_uri": "https://localhost:8080/",
          "height": 282
        },
        "outputId": "da3c317a-93c1-4a1d-ccfb-f935c64786ca"
      },
      "source": [
        "m = 100\n",
        "X = np.linspace(0, 4, m).reshape((m, 1))\n",
        "y = X**2 + 5*np.cos(X) + np.random.randn(m, 1)\n",
        "\n",
        "model = LinearRegression().fit(X, y)\n",
        "y_pred = model.predict(X)\n",
        "\n",
        "plt.scatter(X, y)\n",
        "plt.plot(X, y_pred, c='r', lw=3)"
      ],
      "execution_count": null,
      "outputs": [
        {
          "output_type": "execute_result",
          "data": {
            "text/plain": [
              "[<matplotlib.lines.Line2D at 0x7f8fe9f9cb70>]"
            ]
          },
          "metadata": {
            "tags": []
          },
          "execution_count": 23
        },
        {
          "output_type": "display_data",
          "data": {
            "image/png": "[encoded data removed]",
            "text/plain": [
              "<Figure size 432x288 with 1 Axes>"
            ]
          },
          "metadata": {
            "tags": [],
            "needs_background": "light"
          }
        }
      ]
    },
    {
      "cell_type": "code",
      "metadata": {
        "id": "TGgE9o13p2qc",
        "colab": {
          "base_uri": "https://localhost:8080/",
          "height": 282
        },
        "outputId": "4181041e-7e01-4a9e-fd6e-e2b894fd96e0"
      },
      "source": [
        "X_poly = PolynomialFeatures(3).fit_transform(X)\n",
        "model = LinearRegression().fit(X_poly, y)\n",
        "y_pred = model.predict(X_poly)\n",
        "\n",
        "plt.scatter(X, y)\n",
        "plt.plot(X, y_pred, c='r', lw=3)"
      ],
      "execution_count": null,
      "outputs": [
        {
          "output_type": "execute_result",
          "data": {
            "text/plain": [
              "[<matplotlib.lines.Line2D at 0x7f8fe9f0e828>]"
            ]
          },
          "metadata": {
            "tags": []
          },
          "execution_count": 25
        },
        {
          "output_type": "display_data",
          "data": {
            "image/png": "[encoded data removed]",
            "text/plain": [
              "<Figure size 432x288 with 1 Axes>"
            ]
          },
          "metadata": {
            "tags": [],
            "needs_background": "light"
          }
        }
      ]
    }
  ]
}